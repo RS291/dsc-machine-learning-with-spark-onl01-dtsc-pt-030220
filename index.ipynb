{
 "cells": [
  {
   "cell_type": "markdown",
   "metadata": {},
   "source": [
    "# Machine Learning with Spark\n",
    "\n",
    "## Introduction\n",
    "\n",
    "You've now explored how to perform operations on Spark RDDs for simple MapReduce tasks. Luckily, there are far more advanced use cases for Spark, and many of them are found in the `ml` library, which we are going to explore in this lesson.\n",
    "\n",
    "\n",
    "## Objectives\n",
    "\n",
    "You will be able to: \n",
    "\n",
    "- Load and manipulate data using Spark DataFrames  \n",
    "- Define estimators and transformers in Spark ML \n",
    "- Create a Spark ML pipeline that transforms data and runs over a grid of hyperparameters \n",
    "\n",
    "\n",
    "\n",
    "## A Tale of Two Libraries\n",
    "\n",
    "If you look at the PySpark documentation, you'll notice that there are two different libraries for machine learning, [mllib](https://spark.apache.org/docs/latest/api/python/pyspark.mllib.html) and [ml](https://spark.apache.org/docs/latest/api/python/pyspark.ml.html). These libraries are extremely similar to one another, the only difference being that the `mllib` library is built upon the RDDs you just practiced using; whereas, the `ml` library is built on higher level Spark DataFrames, which has methods and attributes similar to pandas. Spark has stated that in the future, it is going to devote more effort to the `ml` library and that `mllib` will become deprecated. It's important to note that these libraries are much younger than pandas and scikit-learn and there are not as many features present in either.\n",
    "\n",
    "## Spark DataFrames\n",
    "\n",
    "In the previous lessons, you were introduced to SparkContext as the primary way to connect with a Spark Application. Here, we will be using SparkSession, which is from the [sql](https://spark.apache.org/docs/latest/api/python/pyspark.sql.html) component of PySpark. The SparkSession acts the same way as SparkContext; it is a bridge between Python and the Spark Application. It's just built on top of the Spark SQL API, a higher-level API than RDDs. In fact, a SparkContext object is spun up around which the SparkSession object is wrapped. Let's go through the process of manipulating some data here. For this example, we're going to be using the [Forest Fire dataset](https://archive.ics.uci.edu/ml/datasets/Forest+Fires) from UCI, which contains data about the area burned by wildfires in the Northeast region of Portugal in relation to numerous other factors.\n",
    "\n",
    "To begin with, let's create a SparkSession so that we can spin up our spark application. "
   ]
  },
  {
   "cell_type": "code",
   "execution_count": 1,
   "metadata": {},
   "outputs": [],
   "source": [
    "# importing the necessary libraries\n",
    "from pyspark import SparkContext\n",
    "from pyspark.sql import SparkSession\n",
    "sc = SparkContext('local[*]')\n",
    "spark = SparkSession(sc)"
   ]
  },
  {
   "cell_type": "markdown",
   "metadata": {},
   "source": [
    "To create a SparkSession: "
   ]
  },
  {
   "cell_type": "code",
   "execution_count": 2,
   "metadata": {},
   "outputs": [],
   "source": [
    "spark = SparkSession.builder.master('local').getOrCreate()"
   ]
  },
  {
   "cell_type": "markdown",
   "metadata": {},
   "source": [
    "Now, we'll load the data into a PySpark DataFrame: "
   ]
  },
  {
   "cell_type": "code",
   "execution_count": 3,
   "metadata": {},
   "outputs": [
    {
     "data": {
      "text/plain": [
       "pyspark.sql.dataframe.DataFrame"
      ]
     },
     "execution_count": 3,
     "metadata": {},
     "output_type": "execute_result"
    }
   ],
   "source": [
    "## reading in pyspark df\n",
    "spark_df = spark.read.csv('./forestfires.csv', header='true', inferSchema='true')\n",
    "\n",
    "## observing the datatype of df\n",
    "type(spark_df)"
   ]
  },
  {
   "cell_type": "markdown",
   "metadata": {},
   "source": [
    "You'll notice that some of the methods are extremely similar or the same as those found within Pandas."
   ]
  },
  {
   "cell_type": "code",
   "execution_count": 4,
   "metadata": {},
   "outputs": [
    {
     "data": {
      "text/plain": [
       "Row(X=7, Y=5, month='mar', day='fri', FFMC=86.2, DMC=26.2, DC=94.3, ISI=5.1, temp=8.2, RH=51, wind=6.7, rain=0.0, area=0.0)"
      ]
     },
     "execution_count": 4,
     "metadata": {},
     "output_type": "execute_result"
    }
   ],
   "source": [
    "spark_df.head()"
   ]
  },
  {
   "cell_type": "code",
   "execution_count": 5,
   "metadata": {},
   "outputs": [
    {
     "data": {
      "text/plain": [
       "['X',\n",
       " 'Y',\n",
       " 'month',\n",
       " 'day',\n",
       " 'FFMC',\n",
       " 'DMC',\n",
       " 'DC',\n",
       " 'ISI',\n",
       " 'temp',\n",
       " 'RH',\n",
       " 'wind',\n",
       " 'rain',\n",
       " 'area']"
      ]
     },
     "execution_count": 5,
     "metadata": {},
     "output_type": "execute_result"
    }
   ],
   "source": [
    "spark_df.columns"
   ]
  },
  {
   "cell_type": "markdown",
   "metadata": {},
   "source": [
    "Selecting multiple columns is similar as well: "
   ]
  },
  {
   "cell_type": "code",
   "execution_count": 6,
   "metadata": {},
   "outputs": [
    {
     "data": {
      "text/plain": [
       "DataFrame[month: string, day: string, rain: double]"
      ]
     },
     "execution_count": 6,
     "metadata": {},
     "output_type": "execute_result"
    }
   ],
   "source": [
    "spark_df[['month','day','rain']]"
   ]
  },
  {
   "cell_type": "markdown",
   "metadata": {},
   "source": [
    "But selecting one column is different. If you want to maintain the methods of a spark DataFrame, you should use the `.select()` method. If you want to just select the column, you can use the same method you would use in pandas (this is primarily what you would use if you're attempting to create a boolean mask). "
   ]
  },
  {
   "cell_type": "code",
   "execution_count": 7,
   "metadata": {
    "scrolled": true
   },
   "outputs": [],
   "source": [
    "d = spark_df.select('rain')"
   ]
  },
  {
   "cell_type": "code",
   "execution_count": 8,
   "metadata": {},
   "outputs": [
    {
     "data": {
      "text/plain": [
       "Column<b'rain'>"
      ]
     },
     "execution_count": 8,
     "metadata": {},
     "output_type": "execute_result"
    }
   ],
   "source": [
    "spark_df['rain']"
   ]
  },
  {
   "cell_type": "markdown",
   "metadata": {},
   "source": [
    "Let's take a look at all of our data types in this dataframe"
   ]
  },
  {
   "cell_type": "code",
   "execution_count": 9,
   "metadata": {},
   "outputs": [
    {
     "data": {
      "text/plain": [
       "[('X', 'int'),\n",
       " ('Y', 'int'),\n",
       " ('month', 'string'),\n",
       " ('day', 'string'),\n",
       " ('FFMC', 'double'),\n",
       " ('DMC', 'double'),\n",
       " ('DC', 'double'),\n",
       " ('ISI', 'double'),\n",
       " ('temp', 'double'),\n",
       " ('RH', 'int'),\n",
       " ('wind', 'double'),\n",
       " ('rain', 'double'),\n",
       " ('area', 'double')]"
      ]
     },
     "execution_count": 9,
     "metadata": {},
     "output_type": "execute_result"
    }
   ],
   "source": [
    "spark_df.dtypes"
   ]
  },
  {
   "cell_type": "markdown",
   "metadata": {},
   "source": [
    "## Aggregations with our DataFrame"
   ]
  },
  {
   "cell_type": "markdown",
   "metadata": {},
   "source": [
    "Let's investigate to see if there is any correlation between what month it is and the area of fire: "
   ]
  },
  {
   "cell_type": "code",
   "execution_count": 10,
   "metadata": {},
   "outputs": [
    {
     "data": {
      "text/plain": [
       "DataFrame[month: string, avg(area): double]"
      ]
     },
     "execution_count": 10,
     "metadata": {},
     "output_type": "execute_result"
    }
   ],
   "source": [
    "spark_df_months = spark_df.groupBy('month').agg({'area': 'mean'})\n",
    "spark_df_months"
   ]
  },
  {
   "cell_type": "markdown",
   "metadata": {},
   "source": [
    "Notice how the grouped DataFrame is not returned when you call the aggregation method. Remember, this is still Spark! The transformations and actions are kept separate so that it is easier to manage large quantities of data. You can perform the transformation by calling `.collect()`: "
   ]
  },
  {
   "cell_type": "code",
   "execution_count": 11,
   "metadata": {},
   "outputs": [
    {
     "data": {
      "text/plain": [
       "[Row(month='jun', avg(area)=5.841176470588234),\n",
       " Row(month='aug', avg(area)=12.489076086956521),\n",
       " Row(month='may', avg(area)=19.24),\n",
       " Row(month='feb', avg(area)=6.275),\n",
       " Row(month='sep', avg(area)=17.942616279069753),\n",
       " Row(month='mar', avg(area)=4.356666666666667),\n",
       " Row(month='oct', avg(area)=6.638),\n",
       " Row(month='jul', avg(area)=14.3696875),\n",
       " Row(month='nov', avg(area)=0.0),\n",
       " Row(month='apr', avg(area)=8.891111111111112),\n",
       " Row(month='dec', avg(area)=13.33),\n",
       " Row(month='jan', avg(area)=0.0)]"
      ]
     },
     "execution_count": 11,
     "metadata": {},
     "output_type": "execute_result"
    }
   ],
   "source": [
    "spark_df_months.collect()"
   ]
  },
  {
   "cell_type": "markdown",
   "metadata": {},
   "source": [
    "As you can see, there seem to be larger area fires during what would be considered the summer months in Portugal. On your own, practice more aggregations and manipulations that you might be able to perform on this dataset. "
   ]
  },
  {
   "cell_type": "markdown",
   "metadata": {},
   "source": [
    "## Boolean Masking \n",
    "\n",
    "Boolean masking also works with PySpark DataFrames just like Pandas DataFrames, the only difference being that the `.filter()` method is used in PySpark. To try this out, let's compare the amount of fire in those areas with absolutely no rain to those areas that had rain."
   ]
  },
  {
   "cell_type": "code",
   "execution_count": 12,
   "metadata": {},
   "outputs": [],
   "source": [
    "no_rain = spark_df.filter(spark_df['rain'] == 0.0)\n",
    "some_rain = spark_df.filter(spark_df['rain'] > 0.0)"
   ]
  },
  {
   "cell_type": "markdown",
   "metadata": {},
   "source": [
    "Now, to perform calculations to find the mean of a column, we'll have to import functions from `pyspark.sql`. As always, to read more about them, check out the [documentation](https://spark.apache.org/docs/latest/api/python/pyspark.sql.html#module-pyspark.sql.functions)."
   ]
  },
  {
   "cell_type": "code",
   "execution_count": 13,
   "metadata": {},
   "outputs": [
    {
     "name": "stdout",
     "output_type": "stream",
     "text": [
      "+------------------+\n",
      "|         avg(area)|\n",
      "+------------------+\n",
      "|13.023693516699408|\n",
      "+------------------+\n",
      "\n",
      "no rain fire area:  None \n",
      "\n",
      "+---------+\n",
      "|avg(area)|\n",
      "+---------+\n",
      "|  1.62375|\n",
      "+---------+\n",
      "\n",
      "some rain fire area:  None \n",
      "\n"
     ]
    }
   ],
   "source": [
    "from pyspark.sql.functions import mean\n",
    "\n",
    "print('no rain fire area: ', no_rain.select(mean('area')).show(),'\\n')\n",
    "\n",
    "print('some rain fire area: ', some_rain.select(mean('area')).show(),'\\n')"
   ]
  },
  {
   "cell_type": "markdown",
   "metadata": {},
   "source": [
    "Yes there's definitely something there! Unsurprisingly, rain plays in a big factor in the spread of wildfire.\n",
    "\n",
    "Let's obtain data from only the summer months in Portugal (June, July, and August). We can also do the same for the winter months in Portugal (December, January, February)."
   ]
  },
  {
   "cell_type": "code",
   "execution_count": 14,
   "metadata": {},
   "outputs": [
    {
     "name": "stdout",
     "output_type": "stream",
     "text": [
      "+------------------+\n",
      "|         avg(area)|\n",
      "+------------------+\n",
      "|12.262317596566525|\n",
      "+------------------+\n",
      "\n",
      "summer months fire area None\n",
      "+-----------------+\n",
      "|        avg(area)|\n",
      "+-----------------+\n",
      "|7.918387096774193|\n",
      "+-----------------+\n",
      "\n",
      "winter months fire areas None\n"
     ]
    }
   ],
   "source": [
    "summer_months = spark_df.filter(spark_df['month'].isin(['jun','jul','aug']))\n",
    "winter_months = spark_df.filter(spark_df['month'].isin(['dec','jan','feb']))\n",
    "\n",
    "print('summer months fire area', summer_months.select(mean('area')).show())\n",
    "print('winter months fire areas', winter_months.select(mean('area')).show())"
   ]
  },
  {
   "cell_type": "markdown",
   "metadata": {},
   "source": [
    "## Machine Learning\n",
    "\n",
    "Now that we've performed some data manipulation and aggregation, lets get to the really cool stuff, machine learning! PySpark states that they've used scikit-learn as an inspiration for their implementation of a machine learning library. As a result, many of the methods and functionalities look similar, but there are some crucial distinctions. There are three main concepts found within the ML library:\n",
    "\n",
    "`Transformer`: An algorithm that transforms one PySpark DataFrame into another DataFrame. \n",
    "\n",
    "`Estimator`: An algorithm that can be fit onto a PySpark DataFrame that can then be used as a Transformer. \n",
    "\n",
    "`Pipeline`: A pipeline very similar to an `sklearn` pipeline that chains together different actions.\n",
    "\n",
    "The reasoning behind this separation of the fitting and transforming step is because Spark is lazily evaluated, so the 'fitting' of a model does not actually take place until the Transformation action is called. Let's examine what this actually looks like by performing a regression on the Forest Fire dataset. To start off with, we'll import the necessary libraries for our tasks."
   ]
  },
  {
   "cell_type": "code",
   "execution_count": 19,
   "metadata": {},
   "outputs": [
    {
     "data": {
      "text/plain": [
       "'3.0.1'"
      ]
     },
     "execution_count": 19,
     "metadata": {},
     "output_type": "execute_result"
    }
   ],
   "source": [
    "spark.version"
   ]
  },
  {
   "cell_type": "code",
   "execution_count": 17,
   "metadata": {},
   "outputs": [],
   "source": [
    "import pyspark"
   ]
  },
  {
   "cell_type": "code",
   "execution_count": 22,
   "metadata": {},
   "outputs": [],
   "source": [
    "from pyspark.ml.regression import RandomForestRegressor\n",
    "from pyspark.ml import feature\n",
    "from pyspark.ml.feature import StringIndexer, VectorAssembler, OneHotEncoder"
   ]
  },
  {
   "cell_type": "markdown",
   "metadata": {},
   "source": [
    "Looking at our data, one can see that all the categories are numerical except for day and month. We saw some correlation between the month and area burned in a fire, so we will include that in our model. The day of the week, however, is highly unlikely to have any effect on fire, so we will drop it from the DataFrame."
   ]
  },
  {
   "cell_type": "code",
   "execution_count": 23,
   "metadata": {},
   "outputs": [
    {
     "data": {
      "text/plain": [
       "Row(X=7, Y=5, month='mar', FFMC=86.2, DMC=26.2, DC=94.3, ISI=5.1, temp=8.2, RH=51, wind=6.7, rain=0.0, area=0.0)"
      ]
     },
     "execution_count": 23,
     "metadata": {},
     "output_type": "execute_result"
    }
   ],
   "source": [
    "fire_df = spark_df.drop('day')\n",
    "fire_df.head()"
   ]
  },
  {
   "cell_type": "markdown",
   "metadata": {},
   "source": [
    "In order for us to run our model, we need to turn the months variable into a dummy variable. In `ml` this is a 2-step process that first requires turning the categorical variable into a numerical index (`StringIndexer`). Only after the variable is an integer can PySpark create dummy variable columns related to each category (`OneHotEncoderEstimator`). Your key parameters when using these `ml` estimators are: `inputCol` (the column you want to change) and `outputCol` (where you will store the changed column). Here it is in action: "
   ]
  },
  {
   "cell_type": "code",
   "execution_count": 24,
   "metadata": {},
   "outputs": [],
   "source": [
    "si = StringIndexer(inputCol='month', outputCol='month_num')\n",
    "model = si.fit(fire_df)\n",
    "new_df = model.transform(fire_df)"
   ]
  },
  {
   "cell_type": "markdown",
   "metadata": {},
   "source": [
    "Note the small, but critical distinction between `sklearn`'s implementation of a transformer and PySpark's implementation. `sklearn` is more object oriented and Spark is more functional oriented."
   ]
  },
  {
   "cell_type": "code",
   "execution_count": 25,
   "metadata": {},
   "outputs": [
    {
     "data": {
      "text/plain": [
       "pyspark.ml.feature.StringIndexer"
      ]
     },
     "execution_count": 25,
     "metadata": {},
     "output_type": "execute_result"
    }
   ],
   "source": [
    "## this is an estimator (an untrained transformer)\n",
    "type(si)"
   ]
  },
  {
   "cell_type": "code",
   "execution_count": 26,
   "metadata": {},
   "outputs": [
    {
     "data": {
      "text/plain": [
       "pyspark.ml.feature.StringIndexerModel"
      ]
     },
     "execution_count": 26,
     "metadata": {},
     "output_type": "execute_result"
    }
   ],
   "source": [
    "## this is a transformer (a trained transformer)\n",
    "type(model)"
   ]
  },
  {
   "cell_type": "code",
   "execution_count": 27,
   "metadata": {},
   "outputs": [
    {
     "data": {
      "text/plain": [
       "['aug',\n",
       " 'sep',\n",
       " 'mar',\n",
       " 'jul',\n",
       " 'feb',\n",
       " 'jun',\n",
       " 'oct',\n",
       " 'apr',\n",
       " 'dec',\n",
       " 'jan',\n",
       " 'may',\n",
       " 'nov']"
      ]
     },
     "execution_count": 27,
     "metadata": {},
     "output_type": "execute_result"
    }
   ],
   "source": [
    "model.labels"
   ]
  },
  {
   "cell_type": "code",
   "execution_count": 28,
   "metadata": {},
   "outputs": [
    {
     "data": {
      "text/plain": [
       "[Row(X=7, Y=5, month='mar', FFMC=86.2, DMC=26.2, DC=94.3, ISI=5.1, temp=8.2, RH=51, wind=6.7, rain=0.0, area=0.0, month_num=2.0),\n",
       " Row(X=7, Y=4, month='oct', FFMC=90.6, DMC=35.4, DC=669.1, ISI=6.7, temp=18.0, RH=33, wind=0.9, rain=0.0, area=0.0, month_num=6.0),\n",
       " Row(X=7, Y=4, month='oct', FFMC=90.6, DMC=43.7, DC=686.9, ISI=6.7, temp=14.6, RH=33, wind=1.3, rain=0.0, area=0.0, month_num=6.0),\n",
       " Row(X=8, Y=6, month='mar', FFMC=91.7, DMC=33.3, DC=77.5, ISI=9.0, temp=8.3, RH=97, wind=4.0, rain=0.2, area=0.0, month_num=2.0)]"
      ]
     },
     "execution_count": 28,
     "metadata": {},
     "output_type": "execute_result"
    }
   ],
   "source": [
    "new_df.head(4)"
   ]
  },
  {
   "cell_type": "markdown",
   "metadata": {},
   "source": [
    "As you can see, we have created a new column called `'month_num'` that represents the month by a number. Now that we have performed this step, we can use Spark's version of `OneHotEncoder()` - `OneHotEncoderEstimator()`. Let's make sure we have an accurate representation of the months."
   ]
  },
  {
   "cell_type": "code",
   "execution_count": 29,
   "metadata": {},
   "outputs": [
    {
     "data": {
      "text/plain": [
       "[Row(month_num=8.0),\n",
       " Row(month_num=0.0),\n",
       " Row(month_num=7.0),\n",
       " Row(month_num=1.0),\n",
       " Row(month_num=4.0),\n",
       " Row(month_num=11.0),\n",
       " Row(month_num=3.0),\n",
       " Row(month_num=2.0),\n",
       " Row(month_num=10.0),\n",
       " Row(month_num=6.0),\n",
       " Row(month_num=5.0),\n",
       " Row(month_num=9.0)]"
      ]
     },
     "execution_count": 29,
     "metadata": {},
     "output_type": "execute_result"
    }
   ],
   "source": [
    "new_df.select('month_num').distinct().collect()"
   ]
  },
  {
   "cell_type": "code",
   "execution_count": 30,
   "metadata": {},
   "outputs": [
    {
     "data": {
      "text/plain": [
       "Row(X=7, Y=5, month='mar', FFMC=86.2, DMC=26.2, DC=94.3, ISI=5.1, temp=8.2, RH=51, wind=6.7, rain=0.0, area=0.0, month_num=2.0, month_vec=SparseVector(11, {2: 1.0}))"
      ]
     },
     "execution_count": 30,
     "metadata": {},
     "output_type": "execute_result"
    }
   ],
   "source": [
    "## fitting and transforming the OneHotEncoderEstimator\n",
    "ohe = feature.OneHotEncoder(inputCols=['month_num'], outputCols=['month_vec'], dropLast=True)\n",
    "one_hot_encoded = ohe.fit(new_df).transform(new_df)\n",
    "one_hot_encoded.head()"
   ]
  },
  {
   "cell_type": "markdown",
   "metadata": {},
   "source": [
    "Great, we now have a OneHotEncoded sparse vector in the `'month_vec'` column! Because Spark is optimized for big data, sparse vectors are used rather than entirely new columns for dummy variables because it is more space efficient. You can see in this first row of the DataFrame:  \n",
    "\n",
    "`month_vec=SparseVector(11, {2: 1.0})` this indicates that we have a sparse vector of size 11 (because of the parameter `dropLast = True` in `OneHotEncoderEstimator()`) and this particular data point is the 2nd index of our month labels (march, based off the labels in the `model` StringEstimator transformer).  \n",
    "\n",
    "The final requirement for all machine learning models in PySpark is to put all of the features of your model into one sparse vector. This is once again for efficiency sake. Here, we are doing that with the `VectorAssembler()` estimator."
   ]
  },
  {
   "cell_type": "code",
   "execution_count": 31,
   "metadata": {},
   "outputs": [],
   "source": [
    "features = ['X',\n",
    " 'Y',\n",
    " 'FFMC',\n",
    " 'DMC',\n",
    " 'DC',\n",
    " 'ISI',\n",
    " 'temp',\n",
    " 'RH',\n",
    " 'wind',\n",
    " 'rain',\n",
    " 'month_vec']\n",
    "\n",
    "target = 'area'\n",
    "\n",
    "vector = VectorAssembler(inputCols=features, outputCol='features')\n",
    "vectorized_df = vector.transform(one_hot_encoded)"
   ]
  },
  {
   "cell_type": "code",
   "execution_count": 32,
   "metadata": {},
   "outputs": [
    {
     "data": {
      "text/plain": [
       "Row(X=7, Y=5, month='mar', FFMC=86.2, DMC=26.2, DC=94.3, ISI=5.1, temp=8.2, RH=51, wind=6.7, rain=0.0, area=0.0, month_num=2.0, month_vec=SparseVector(11, {2: 1.0}), features=SparseVector(21, {0: 7.0, 1: 5.0, 2: 86.2, 3: 26.2, 4: 94.3, 5: 5.1, 6: 8.2, 7: 51.0, 8: 6.7, 12: 1.0}))"
      ]
     },
     "execution_count": 32,
     "metadata": {},
     "output_type": "execute_result"
    }
   ],
   "source": [
    "vectorized_df.head()"
   ]
  },
  {
   "cell_type": "markdown",
   "metadata": {},
   "source": [
    "Great! We now have our data in a format that seems acceptable for the last step. It's time for us to actually fit our model to data! Let's fit a Random Forest Regression model to our data. Although there are still a bunch of other features in the DataFrame, it doesn't matter for the machine learning model API. All that needs to be specified are the names of the features column and the label column. "
   ]
  },
  {
   "cell_type": "code",
   "execution_count": 33,
   "metadata": {},
   "outputs": [],
   "source": [
    "## instantiating and fitting the model\n",
    "rf_model = RandomForestRegressor(featuresCol='features', \n",
    "                                 labelCol='area', predictionCol='prediction').fit(vectorized_df)"
   ]
  },
  {
   "cell_type": "code",
   "execution_count": 34,
   "metadata": {},
   "outputs": [
    {
     "data": {
      "text/plain": [
       "SparseVector(21, {0: 0.1104, 1: 0.1006, 2: 0.0664, 3: 0.1152, 4: 0.1896, 5: 0.0729, 6: 0.0753, 7: 0.1424, 8: 0.0666, 10: 0.0095, 11: 0.0435, 12: 0.0001, 13: 0.0063, 15: 0.0, 16: 0.0001, 17: 0.0006, 18: 0.0004, 20: 0.0001})"
      ]
     },
     "execution_count": 34,
     "metadata": {},
     "output_type": "execute_result"
    }
   ],
   "source": [
    "rf_model.featureImportances"
   ]
  },
  {
   "cell_type": "code",
   "execution_count": 35,
   "metadata": {},
   "outputs": [
    {
     "data": {
      "text/plain": [
       "[Row(area=0.0, prediction=6.7555663445457785),\n",
       " Row(area=0.0, prediction=5.54423077963361),\n",
       " Row(area=0.0, prediction=5.8211373090377325),\n",
       " Row(area=0.0, prediction=4.837494765805138),\n",
       " Row(area=0.0, prediction=4.874890798314382),\n",
       " Row(area=0.0, prediction=5.603978422353775),\n",
       " Row(area=0.0, prediction=2.786732037507153),\n",
       " Row(area=0.0, prediction=11.429569571399746),\n",
       " Row(area=0.0, prediction=6.579881145303004),\n",
       " Row(area=0.0, prediction=5.375978893709391)]"
      ]
     },
     "execution_count": 35,
     "metadata": {},
     "output_type": "execute_result"
    }
   ],
   "source": [
    "## generating predictions\n",
    "predictions = rf_model.transform(vectorized_df).select('area', 'prediction')\n",
    "predictions.head(10)"
   ]
  },
  {
   "cell_type": "markdown",
   "metadata": {},
   "source": [
    "Now we can evaluate how well the model performed using `RegressionEvaluator`."
   ]
  },
  {
   "cell_type": "code",
   "execution_count": 36,
   "metadata": {},
   "outputs": [],
   "source": [
    "from pyspark.ml.evaluation import RegressionEvaluator\n",
    "evaluator = RegressionEvaluator(predictionCol='prediction', labelCol='area')"
   ]
  },
  {
   "cell_type": "code",
   "execution_count": 37,
   "metadata": {},
   "outputs": [
    {
     "data": {
      "text/plain": [
       "0.7296780915000183"
      ]
     },
     "execution_count": 37,
     "metadata": {},
     "output_type": "execute_result"
    }
   ],
   "source": [
    "## evaluating r^2\n",
    "evaluator.evaluate(predictions,{evaluator.metricName: 'r2'})"
   ]
  },
  {
   "cell_type": "code",
   "execution_count": 38,
   "metadata": {},
   "outputs": [
    {
     "data": {
      "text/plain": [
       "12.877020220021283"
      ]
     },
     "execution_count": 38,
     "metadata": {},
     "output_type": "execute_result"
    }
   ],
   "source": [
    "## evaluating mean absolute error\n",
    "evaluator.evaluate(predictions,{evaluator.metricName: 'mae'})"
   ]
  },
  {
   "cell_type": "markdown",
   "metadata": {},
   "source": [
    "## Putting it all in a Pipeline\n",
    "\n",
    "We just performed a whole lot of transformations to our data. Let's take a look at all the estimators we used to create this model:\n",
    "\n",
    "* `StringIndexer()` \n",
    "* `OneHotEnconderEstimator()` \n",
    "* `VectorAssembler()` \n",
    "* `RandomForestRegressor()` \n",
    "\n",
    "Once we've fit our model in the Pipeline, we're then going to want to evaluate it to determine how well it performs. We can do this with:\n",
    "\n",
    "* `RegressionEvaluator()` \n",
    "\n",
    "We can streamline all of these transformations to make it much more efficient by chaining them together in a pipeline. The Pipeline object expects a list of the estimators prior set to the parameter `stages`."
   ]
  },
  {
   "cell_type": "code",
   "execution_count": 39,
   "metadata": {},
   "outputs": [],
   "source": [
    "# importing relevant libraries\n",
    "from pyspark.ml.tuning import ParamGridBuilder, TrainValidationSplit, CrossValidator\n",
    "from pyspark.ml import Pipeline"
   ]
  },
  {
   "cell_type": "code",
   "execution_count": 41,
   "metadata": {},
   "outputs": [],
   "source": [
    "## instantiating all necessary estimator objects\n",
    "\n",
    "string_indexer = StringIndexer(inputCol='month', outputCol='month_num', handleInvalid='keep')\n",
    "one_hot_encoder = OneHotEncoder(inputCols=['month_num'], outputCols=['month_vec'], dropLast=True)\n",
    "vector_assember = VectorAssembler(inputCols=features, outputCol='features')\n",
    "random_forest = RandomForestRegressor(featuresCol='features', labelCol='area')\n",
    "stages = [string_indexer, one_hot_encoder, vector_assember, random_forest]\n",
    "\n",
    "# instantiating the pipeline with all them estimator objects\n",
    "pipeline = Pipeline(stages=stages)"
   ]
  },
  {
   "cell_type": "markdown",
   "metadata": {},
   "source": [
    "### Cross-validation \n",
    "\n",
    "You might have missed a critical step in the random forest regression above; we did not cross validate or perform a train/test split! Now we're going to fix that by performing cross-validation and also testing out multiple different combinations of parameters in PySpark's `GridSearch()` equivalent. To begin with, we will create a parameter grid that contains the different parameters we want to use in our model."
   ]
  },
  {
   "cell_type": "code",
   "execution_count": 44,
   "metadata": {},
   "outputs": [],
   "source": [
    "# creating parameter grid\n",
    "\n",
    "params = ParamGridBuilder()\\\n",
    "          .addGrid(random_forest.maxDepth, [5, 10, 15])\\\n",
    "          .addGrid(random_forest.numTrees, [20 ,50, 100])\\\n",
    "          .build()"
   ]
  },
  {
   "cell_type": "markdown",
   "metadata": {},
   "source": [
    "Let's take a look at the params variable we just built."
   ]
  },
  {
   "cell_type": "code",
   "execution_count": 45,
   "metadata": {},
   "outputs": [
    {
     "name": "stdout",
     "output_type": "stream",
     "text": [
      "total combinations of parameters:  9\n"
     ]
    },
    {
     "data": {
      "text/plain": [
       "{Param(parent='RandomForestRegressor_6f4b490dcfe2', name='maxDepth', doc='Maximum depth of the tree. (>= 0) E.g., depth 0 means 1 leaf node; depth 1 means 1 internal node + 2 leaf nodes.'): 5,\n",
       " Param(parent='RandomForestRegressor_6f4b490dcfe2', name='numTrees', doc='Number of trees to train (>= 1).'): 20}"
      ]
     },
     "execution_count": 45,
     "metadata": {},
     "output_type": "execute_result"
    }
   ],
   "source": [
    "print('total combinations of parameters: ', len(params))\n",
    "\n",
    "params[0]"
   ]
  },
  {
   "cell_type": "markdown",
   "metadata": {},
   "source": [
    "Now it's time to combine all the steps we've created to work in a single line of code with the `CrossValidator()` estimator."
   ]
  },
  {
   "cell_type": "code",
   "execution_count": 46,
   "metadata": {},
   "outputs": [],
   "source": [
    "## instantiating the evaluator by which we will measure our model's performance\n",
    "reg_evaluator = RegressionEvaluator(predictionCol='prediction', labelCol='area', metricName = 'mae')\n",
    "\n",
    "## instantiating crossvalidator estimator\n",
    "cv = CrossValidator(estimator=pipeline, estimatorParamMaps=params, evaluator=reg_evaluator, parallelism=4)"
   ]
  },
  {
   "cell_type": "code",
   "execution_count": 47,
   "metadata": {},
   "outputs": [],
   "source": [
    "## fitting crossvalidator\n",
    "cross_validated_model = cv.fit(fire_df)"
   ]
  },
  {
   "cell_type": "markdown",
   "metadata": {},
   "source": [
    "Now, let's see how well the model performed! Let's take a look at the average performance for each one of our 9 models. It looks like the optimal performance is an MAE around 23. Note that this is worse than our original model, but that's because our original model had substantial data leakage. We didn't do a train-test split!"
   ]
  },
  {
   "cell_type": "code",
   "execution_count": 48,
   "metadata": {
    "scrolled": true
   },
   "outputs": [
    {
     "data": {
      "text/plain": [
       "[21.639667196138035,\n",
       " 21.826090401973623,\n",
       " 21.111321501750986,\n",
       " 22.41458777610401,\n",
       " 22.500508303336204,\n",
       " 21.73497727237408,\n",
       " 22.466450950989397,\n",
       " 22.61283105924936,\n",
       " 21.832656242897272]"
      ]
     },
     "execution_count": 48,
     "metadata": {},
     "output_type": "execute_result"
    }
   ],
   "source": [
    "cross_validated_model.avgMetrics"
   ]
  },
  {
   "cell_type": "markdown",
   "metadata": {},
   "source": [
    "Now, let's take a look at the optimal parameters of our best performing model. The `cross_validated_model` variable is now saved as the best performing model from the grid search just performed. Let's look to see how well the predictions performed. As you can see, this dataset has a large number of areas of \"0.0\" burned. Perhaps, it would be better to investigate this problem as a classification task."
   ]
  },
  {
   "cell_type": "code",
   "execution_count": 49,
   "metadata": {},
   "outputs": [
    {
     "name": "stdout",
     "output_type": "stream",
     "text": [
      "+------------------+-------+\n",
      "|        prediction|   area|\n",
      "+------------------+-------+\n",
      "| 5.721819135718334|    0.0|\n",
      "| 5.151442394292076|    0.0|\n",
      "|  5.01965941394524|    0.0|\n",
      "| 7.236590097845451|    0.0|\n",
      "| 7.252637225015601|    0.0|\n",
      "|10.622384326074062|    0.0|\n",
      "| 7.341576089978968|    0.0|\n",
      "| 8.831694473297613|    0.0|\n",
      "| 8.958797927624868|    0.0|\n",
      "|  7.12153032695812|    0.0|\n",
      "| 5.794975258886869|    0.0|\n",
      "| 5.829260077211623|    0.0|\n",
      "| 6.648657626921526|    0.0|\n",
      "|10.336177348100483|    0.0|\n",
      "| 64.27727525477866|    0.0|\n",
      "| 8.451810186870032|    0.0|\n",
      "| 6.390678864772172|    0.0|\n",
      "|6.6209041144833485|    0.0|\n",
      "| 5.393459082497973|    0.0|\n",
      "| 6.381646733481406|    0.0|\n",
      "|10.297814097740849|    0.0|\n",
      "| 4.863213107163374|    0.0|\n",
      "| 5.113118978480455|    0.0|\n",
      "|10.195766466587756|    0.0|\n",
      "|6.6181181032436855|    0.0|\n",
      "|6.1745213136435835|    0.0|\n",
      "| 8.467642634585472|    0.0|\n",
      "|10.057125725244719|    0.0|\n",
      "|26.432646368527422|    0.0|\n",
      "|10.692843757628975|    0.0|\n",
      "|18.849835122218114|    0.0|\n",
      "| 6.713210758447408|    0.0|\n",
      "| 6.690374756734126|    0.0|\n",
      "| 6.091880072695147|    0.0|\n",
      "| 4.959525827143138|    0.0|\n",
      "| 6.640114176709889|    0.0|\n",
      "| 6.977112254937323|    0.0|\n",
      "| 6.450526246385166|    0.0|\n",
      "| 5.928429986704332|    0.0|\n",
      "| 4.419562666983731|    0.0|\n",
      "|28.200305559921638|    0.0|\n",
      "| 5.043966864075107|    0.0|\n",
      "| 5.005537857541135|    0.0|\n",
      "| 5.781417471703657|    0.0|\n",
      "| 6.641972468032136|    0.0|\n",
      "| 67.67387601650056|    0.0|\n",
      "| 6.498318507560004|    0.0|\n",
      "|  7.05018634569111|    0.0|\n",
      "| 4.507905224169076|    0.0|\n",
      "| 6.049246682985127|    0.0|\n",
      "|13.019553205277111|    0.0|\n",
      "| 5.281919396651626|    0.0|\n",
      "| 4.453157660837171|    0.0|\n",
      "| 4.453157660837171|    0.0|\n",
      "| 4.818229848379296|    0.0|\n",
      "|12.582024572176211|    0.0|\n",
      "| 5.786713987717668|    0.0|\n",
      "| 16.06192255763398|    0.0|\n",
      "|5.4564434957749395|    0.0|\n",
      "|5.8420860268192465|    0.0|\n",
      "| 4.863252566493676|    0.0|\n",
      "| 5.076891766266912|    0.0|\n",
      "|  8.47051701677072|    0.0|\n",
      "|  4.55676123825623|    0.0|\n",
      "| 4.587540593427593|    0.0|\n",
      "| 9.008561374085678|    0.0|\n",
      "| 8.942808069306878|    0.0|\n",
      "|11.269094529386646|    0.0|\n",
      "|11.775971266194421|    0.0|\n",
      "| 4.508342188215858|    0.0|\n",
      "|6.2467020685792365|    0.0|\n",
      "| 4.583688091575845|    0.0|\n",
      "| 4.286099421050711|    0.0|\n",
      "| 8.529044726631508|    0.0|\n",
      "| 6.734545652344624|    0.0|\n",
      "| 9.330326718931255|    0.0|\n",
      "| 7.833637249334552|    0.0|\n",
      "| 7.717893129791833|    0.0|\n",
      "| 4.980854031195894|    0.0|\n",
      "|25.502074703672196|    0.0|\n",
      "|14.961445531578669|    0.0|\n",
      "|11.523247288405646|    0.0|\n",
      "| 8.319205259930033|    0.0|\n",
      "| 7.189592594587005|    0.0|\n",
      "|5.8930842584461685|    0.0|\n",
      "| 16.17227440835037|    0.0|\n",
      "| 8.562701311126933|    0.0|\n",
      "| 21.15146598656526|    0.0|\n",
      "| 16.69917198428745|    0.0|\n",
      "| 4.725746567019828|    0.0|\n",
      "|5.5654232701226976|    0.0|\n",
      "| 6.000265163711186|    0.0|\n",
      "|15.202075954859293|    0.0|\n",
      "| 17.08308559730347|    0.0|\n",
      "|13.081709612215514|    0.0|\n",
      "| 5.255013603079177|    0.0|\n",
      "| 4.682317972082536|    0.0|\n",
      "| 4.908149294267769|    0.0|\n",
      "|5.7766489328160695|    0.0|\n",
      "| 6.659624817588423|    0.0|\n",
      "| 6.659624817588423|    0.0|\n",
      "| 7.616110562669035|    0.0|\n",
      "| 4.473062960147667|    0.0|\n",
      "| 32.64691701247935|    0.0|\n",
      "| 5.101983543137959|    0.0|\n",
      "|  5.09401111129297|    0.0|\n",
      "|  4.83938259893222|    0.0|\n",
      "|  4.96702409786728|    0.0|\n",
      "|5.3783554239349805|    0.0|\n",
      "| 5.361735269329487|    0.0|\n",
      "| 5.270102060554742|    0.0|\n",
      "| 5.053395981475821|    0.0|\n",
      "|6.1549241331678415|    0.0|\n",
      "| 4.620198887073072|    0.0|\n",
      "| 5.071535771595725|    0.0|\n",
      "| 6.240952095074755|    0.0|\n",
      "| 4.489450638081195|    0.0|\n",
      "| 5.550233140333957|    0.0|\n",
      "|5.1860995036419055|    0.0|\n",
      "|  5.07274656037875|    0.0|\n",
      "| 5.235828212678526|    0.0|\n",
      "| 5.780462706522925|    0.0|\n",
      "| 9.119394699164955|    0.0|\n",
      "| 6.323116226915236|    0.0|\n",
      "|  4.97878746690458|    0.0|\n",
      "|16.522209464363232|    0.0|\n",
      "| 4.541743237389284|    0.0|\n",
      "| 9.010585337102356|    0.0|\n",
      "| 5.532023951959081|    0.0|\n",
      "|17.252400577104503|    0.0|\n",
      "| 4.977548322529597|    0.0|\n",
      "| 4.568821744238333|    0.0|\n",
      "| 4.613256524788466|    0.0|\n",
      "| 5.314446211524024|    0.0|\n",
      "|3.9746478946969366|    0.0|\n",
      "|6.0294960359655105|    0.0|\n",
      "|10.112305282334885|    0.0|\n",
      "| 6.723933695055982|    0.0|\n",
      "|10.579244359181157|   0.36|\n",
      "|11.255797137493776|   0.43|\n",
      "| 9.527669978505333|   0.47|\n",
      "|4.0167200322475285|   0.55|\n",
      "| 19.54018120112562|   0.61|\n",
      "| 9.771864580413666|   0.71|\n",
      "| 4.363455487630955|   0.77|\n",
      "| 39.84898517451117|    0.9|\n",
      "| 5.455164456331525|   0.95|\n",
      "|14.879724644833237|   0.96|\n",
      "| 8.126165685090518|   1.07|\n",
      "| 8.182214317557223|   1.12|\n",
      "|  6.80095220643038|   1.19|\n",
      "|12.936630077616597|   1.36|\n",
      "| 17.08764332340597|   1.43|\n",
      "|  5.40663917335442|   1.46|\n",
      "|24.407036984047192|   1.46|\n",
      "| 5.289153743893563|   1.56|\n",
      "|17.852356230197095|   1.61|\n",
      "| 5.718839878656105|   1.63|\n",
      "| 4.275814644019575|   1.64|\n",
      "| 8.467642634585472|   1.69|\n",
      "| 5.626173801563243|   1.75|\n",
      "| 6.634838037582449|    1.9|\n",
      "| 6.779969245399563|   1.94|\n",
      "| 24.69453033530192|   1.95|\n",
      "| 5.935064360525518|   2.01|\n",
      "| 5.341732085735377|   2.14|\n",
      "|4.6825137116889195|   2.29|\n",
      "| 5.493260800905757|   2.51|\n",
      "|10.792461498039028|   2.53|\n",
      "| 6.303322505903219|   2.55|\n",
      "|  7.33483203994175|   2.57|\n",
      "|7.6625153207450705|   2.69|\n",
      "| 7.818794753665681|   2.74|\n",
      "| 8.916864700071384|   3.07|\n",
      "| 4.507511059337563|    3.5|\n",
      "| 5.061265694496324|   4.53|\n",
      "|5.9616644696097625|   4.61|\n",
      "| 5.107504801479351|   4.69|\n",
      "| 6.272243364505863|   4.88|\n",
      "|10.635701470941413|   5.23|\n",
      "|10.281453411069648|   5.33|\n",
      "| 10.37325324509302|   5.44|\n",
      "| 5.258754078783007|   6.38|\n",
      "|10.244197349789042|   6.83|\n",
      "|11.207840320247051|   6.96|\n",
      "|  8.08891141882527|   7.04|\n",
      "|14.340539916200958|   7.19|\n",
      "|13.069283942175854|    7.3|\n",
      "|  4.96928509465113|    7.4|\n",
      "| 6.195364506164052|   8.24|\n",
      "| 5.586486164305366|   8.31|\n",
      "| 7.042963099627713|   8.68|\n",
      "| 6.769323294443828|   8.71|\n",
      "| 13.46974966965279|   9.41|\n",
      "| 6.769323294443828|  10.01|\n",
      "| 5.255772729694445|  10.02|\n",
      "|5.9616644696097625|  10.93|\n",
      "| 13.39958191717237|  11.06|\n",
      "| 7.264011872278611|  11.24|\n",
      "| 8.208357998456831|  11.32|\n",
      "|11.531518502634986|  11.53|\n",
      "| 5.437290041912368|   12.1|\n",
      "| 5.500506323362138|  13.05|\n",
      "| 8.677385202598181|   13.7|\n",
      "|5.6149267676188686|  13.99|\n",
      "| 7.080802610093773|  14.57|\n",
      "|  7.10034804569577|  15.45|\n",
      "| 10.51286013048021|   17.2|\n",
      "| 8.863069524070404|  19.23|\n",
      "| 9.107708791104118|  23.41|\n",
      "|6.7307762008908085|  24.23|\n",
      "|10.280129781626629|   26.0|\n",
      "| 6.227869340156718|  26.13|\n",
      "| 7.407231674494998|  27.35|\n",
      "|5.4385703945198065|  28.66|\n",
      "|5.4385703945198065|  28.66|\n",
      "|10.073047150158583|  29.48|\n",
      "| 8.687935989081712|  30.32|\n",
      "|15.107100183051363|  31.72|\n",
      "| 7.889716620284691|  31.86|\n",
      "| 8.244901266797996|  32.07|\n",
      "| 7.577532858430318|  35.88|\n",
      "| 6.110222020731421|  36.85|\n",
      "| 35.47285473371532|  37.02|\n",
      "| 7.607392313693782|  37.71|\n",
      "|10.991234035588104|  48.55|\n",
      "|11.380509525773334|  49.37|\n",
      "|18.727842530652666|   58.3|\n",
      "|49.878548403594735|   64.1|\n",
      "| 19.63186222242294|   71.3|\n",
      "|45.863834804703956|  88.49|\n",
      "|46.407344012758045|  95.18|\n",
      "|16.716312239203422| 103.39|\n",
      "| 45.26405186190157| 105.66|\n",
      "|109.11362921244204| 154.88|\n",
      "|49.941956402438784| 196.48|\n",
      "| 89.16841600109767| 200.94|\n",
      "|  71.3083092270491| 212.88|\n",
      "|  620.756660915056|1090.84|\n",
      "| 5.865559972466985|    0.0|\n",
      "| 5.252464412672385|    0.0|\n",
      "| 5.848638431193326|    0.0|\n",
      "| 6.529450341765755|  10.13|\n",
      "| 6.585871572212092|    0.0|\n",
      "| 6.313186066122739|   2.87|\n",
      "|11.402529234247332|   0.76|\n",
      "|12.147575095433435|   0.09|\n",
      "| 4.640081625025966|   0.75|\n",
      "| 6.951867193525552|    0.0|\n",
      "| 4.917334895711591|   2.47|\n",
      "| 52.61744467561644|   0.68|\n",
      "|7.1288446295990635|   0.24|\n",
      "|5.1828630800750615|   0.21|\n",
      "|5.0459233334282505|   1.52|\n",
      "|10.406786074265229|  10.34|\n",
      "| 7.059780837226279|    0.0|\n",
      "|  9.51156192875758|   8.02|\n",
      "| 4.606653336837993|   0.68|\n",
      "| 6.423860094216309|    0.0|\n",
      "| 5.861826501540375|   1.38|\n",
      "|15.951626573544765|   8.85|\n",
      "| 5.031710684252562|    3.3|\n",
      "| 4.420880049251178|   4.25|\n",
      "| 7.982343204488618|   1.56|\n",
      "| 5.780377042466524|   6.54|\n",
      "| 5.579251399961547|   0.79|\n",
      "|6.2700577713584105|   0.17|\n",
      "| 5.158815604117749|    0.0|\n",
      "| 4.667609266803034|    0.0|\n",
      "| 5.238921806795713|    4.4|\n",
      "|  8.00558739932206|   0.52|\n",
      "| 7.899388260047578|   9.27|\n",
      "| 5.291478335470207|   3.09|\n",
      "| 8.162544136362303|   8.98|\n",
      "|12.822120787356985|  11.19|\n",
      "|  6.59599460424518|   5.38|\n",
      "| 11.02418771543464|  17.85|\n",
      "|10.561852094519608|  10.73|\n",
      "| 11.02418771543464|  22.03|\n",
      "| 11.02418771543464|   9.77|\n",
      "| 6.584570581046156|   9.27|\n",
      "|10.884547161127408|  24.77|\n",
      "| 6.014961026227658|    0.0|\n",
      "| 4.753501519312903|    1.1|\n",
      "| 7.389321500198257|  24.24|\n",
      "| 10.26724679772456|    0.0|\n",
      "|13.202320684659094|    0.0|\n",
      "| 4.860258575035856|    0.0|\n",
      "| 5.022772764295329|    0.0|\n",
      "| 5.091944686773117|    0.0|\n",
      "|5.0461929714373674|    0.0|\n",
      "| 12.87082151567749|    8.0|\n",
      "|18.221788226945144|   2.64|\n",
      "| 59.30857986308797|  86.45|\n",
      "|  9.07757719943669|   6.57|\n",
      "| 9.089992365934853|    0.0|\n",
      "|   4.8621758409897|    0.9|\n",
      "| 5.676403469541083|    0.0|\n",
      "| 17.37438307446286|    0.0|\n",
      "| 4.722279800206774|    0.0|\n",
      "+------------------+-------+\n",
      "only showing top 300 rows\n",
      "\n"
     ]
    }
   ],
   "source": [
    "predictions = cross_validated_model.transform(spark_df)\n",
    "predictions.select('prediction', 'area').show(300)"
   ]
  },
  {
   "cell_type": "markdown",
   "metadata": {},
   "source": [
    "Now let's go ahead and take a look at the feature importances of our random forest model. In order to do this, we need to unroll our pipeline to access the random forest model. Let's start by first checking out the `.bestModel` attribute of our `cross_validated_model`. "
   ]
  },
  {
   "cell_type": "code",
   "execution_count": 50,
   "metadata": {
    "slideshow": {
     "slide_type": "slide"
    }
   },
   "outputs": [
    {
     "data": {
      "text/plain": [
       "pyspark.ml.pipeline.PipelineModel"
      ]
     },
     "execution_count": 50,
     "metadata": {},
     "output_type": "execute_result"
    }
   ],
   "source": [
    "type(cross_validated_model.bestModel)"
   ]
  },
  {
   "cell_type": "markdown",
   "metadata": {},
   "source": [
    "`ml` is treating the entire pipeline as the best performing model, so we need to go deeper into the pipeline to access the random forest model within it. Previously, we put the random forest model as the final \"stage\" in the stages variable list. Let's look at the `.stages` attribute of the `.bestModel`."
   ]
  },
  {
   "cell_type": "code",
   "execution_count": 51,
   "metadata": {},
   "outputs": [
    {
     "data": {
      "text/plain": [
       "[StringIndexerModel: uid=StringIndexer_de063d69a3db, handleInvalid=keep,\n",
       " OneHotEncoderModel: uid=OneHotEncoder_bc3734db1eff, dropLast=true, handleInvalid=error, numInputCols=1, numOutputCols=1,\n",
       " VectorAssembler_b32cc125c0c1,\n",
       " RandomForestRegressionModel: uid=RandomForestRegressor_6f4b490dcfe2, numTrees=100, numFeatures=22]"
      ]
     },
     "execution_count": 51,
     "metadata": {},
     "output_type": "execute_result"
    }
   ],
   "source": [
    "cross_validated_model.bestModel.stages"
   ]
  },
  {
   "cell_type": "markdown",
   "metadata": {},
   "source": [
    "Perfect! There's the RandomForestRegressionModel, represented by the last item in the stages list. Now, we should be able to access all the attributes of the random forest regressor."
   ]
  },
  {
   "cell_type": "code",
   "execution_count": 52,
   "metadata": {},
   "outputs": [],
   "source": [
    "optimal_rf_model = cross_validated_model.bestModel.stages[3]"
   ]
  },
  {
   "cell_type": "code",
   "execution_count": 53,
   "metadata": {},
   "outputs": [
    {
     "data": {
      "text/plain": [
       "SparseVector(22, {0: 0.12, 1: 0.0744, 2: 0.1458, 3: 0.0998, 4: 0.0848, 5: 0.0914, 6: 0.1211, 7: 0.0973, 8: 0.1065, 9: 0.0, 10: 0.0141, 11: 0.0278, 12: 0.0, 13: 0.0153, 14: 0.0001, 15: 0.0001, 16: 0.0002, 17: 0.0004, 18: 0.0002, 20: 0.0004})"
      ]
     },
     "execution_count": 53,
     "metadata": {},
     "output_type": "execute_result"
    }
   ],
   "source": [
    "optimal_rf_model.featureImportances"
   ]
  },
  {
   "cell_type": "code",
   "execution_count": 54,
   "metadata": {},
   "outputs": [
    {
     "data": {
      "text/plain": [
       "100"
      ]
     },
     "execution_count": 54,
     "metadata": {},
     "output_type": "execute_result"
    }
   ],
   "source": [
    "optimal_rf_model.getNumTrees"
   ]
  },
  {
   "cell_type": "markdown",
   "metadata": {},
   "source": [
    "## Summary\n",
    "\n",
    "In this lesson, you learned about PySpark's DataFrames, machine learning models, and pipelines. With the use of a pipeline, you can train a huge number of models simultaneously, saving you a substantial amount of time and effort. Up next, you will have a chance to build a PySpark machine learning pipeline of your own with a classification problem!"
   ]
  }
 ],
 "metadata": {
  "kernelspec": {
   "display_name": "Python 3",
   "language": "python",
   "name": "python3"
  },
  "language_info": {
   "codemirror_mode": {
    "name": "ipython",
    "version": 3
   },
   "file_extension": ".py",
   "mimetype": "text/x-python",
   "name": "python",
   "nbconvert_exporter": "python",
   "pygments_lexer": "ipython3",
   "version": "3.7.4"
  }
 },
 "nbformat": 4,
 "nbformat_minor": 2
}
